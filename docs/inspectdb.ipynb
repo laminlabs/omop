{
 "cells": [
  {
   "cell_type": "markdown",
   "metadata": {},
   "source": [
    "# Inspectdb to generate django models\n",
    "\n",
    "Download sql statements files from: https://github.com/OHDSI/CommonDataModel/tree/main/ddl/5.4/postgresql"
   ]
  },
  {
   "cell_type": "code",
   "execution_count": null,
   "metadata": {},
   "outputs": [],
   "source": [
    "from laminci.db import setup_local_test_postgres\n",
    "import lamindb_setup as ln_setup\n",
    "from django.db import connection"
   ]
  },
  {
   "cell_type": "code",
   "execution_count": null,
   "metadata": {},
   "outputs": [],
   "source": [
    "pgurl = setup_local_test_postgres()"
   ]
  },
  {
   "cell_type": "code",
   "execution_count": null,
   "metadata": {},
   "outputs": [],
   "source": [
    "ln_setup.init(storage=\"./default_storage\", name=\"lOMOPCDM_5.4\", db=pgurl)"
   ]
  },
  {
   "cell_type": "code",
   "execution_count": null,
   "metadata": {},
   "outputs": [],
   "source": [
    "for file in [\n",
    "    \"OMOPCDM_postgresql_5.4_ddl.sql\", \n",
    "    \"OMOPCDM_postgresql_5.4_indices.sql\", \n",
    "    \"OMOPCDM_postgresql_5.4_primary_keys.sql\", \n",
    "    \"OMOPCDM_postgresql_5.4_constraints.sql\"]:\n",
    "    print(\"Executing file:\", file)\n",
    "    with open(file, \"r\") as sql_file:\n",
    "        sql_statements = sql_file.read()\n",
    "\n",
    "    statements = sql_statements.split(\";\")\n",
    "\n",
    "    with connection.cursor() as cursor:\n",
    "        for statement in statements:\n",
    "            # Remove comments and trailing whitespace\n",
    "            statement = statement.strip().rstrip(\"--\")\n",
    "            if statement:  # Skip empty lines and comments\n",
    "                try:\n",
    "                    cursor.execute(statement)\n",
    "                except Exception as e:\n",
    "                    print(\"Error executing statement:\", statement)\n",
    "                    print(e)"
   ]
  },
  {
   "cell_type": "code",
   "execution_count": null,
   "metadata": {},
   "outputs": [],
   "source": [
    "ln_setup.django(\"inspectdb\")"
   ]
  },
  {
   "cell_type": "code",
   "execution_count": null,
   "metadata": {},
   "outputs": [],
   "source": [
    "def remove_lnchema_classes(file_path):\n",
    "    \"\"\"\n",
    "    Removes entire classes starting with \"Lnschema\" from a Python file.\n",
    "\n",
    "    Args:\n",
    "    file_path: Path to the Python file.\n",
    "\n",
    "    Returns:\n",
    "    A string containing the modified code without \"Lnschema\" classes.\n",
    "    \"\"\"\n",
    "\n",
    "    with open(file_path, \"r\") as f:\n",
    "        content = f.readlines()\n",
    "\n",
    "    # Flag to track if inside a class definition\n",
    "    in_class = False\n",
    "    class_name = None\n",
    "    modified_lines = []\n",
    "\n",
    "    for line in content:\n",
    "        if line.strip().startswith(\"class Lnschema\"):\n",
    "            # Start of a class with \"Lnschema\" prefix\n",
    "            in_class = True\n",
    "            class_name = line.split()[1]  # Extract class name\n",
    "        elif line.strip() == \"}\" and in_class:\n",
    "            # End of the class with \"Lnschema\" prefix\n",
    "            in_class = False\n",
    "            class_name = None\n",
    "        elif not in_class:\n",
    "            # Lines outside a class or not starting with \"Lnschema\" class\n",
    "            modified_lines.append(line)\n",
    "        else:\n",
    "            # Skip lines inside a class with \"Lnschema\" prefix\n",
    "            pass\n",
    "\n",
    "    return \"\".join(modified_lines)\n",
    "\n",
    "# Example usage\n",
    "file_path = \"your_models.py\"  # Replace with your actual file path\n",
    "modified_code = remove_lnchema_classes(file_path)\n",
    "\n",
    "# Optionally, write the modified code to a new file\n",
    "with open(\"modified_models.py\", \"w\") as f:\n",
    "    f.write(modified_code)\n",
    "\n",
    "print(\"Successfully removed entire 'Lnschema' classes!\")"
   ]
  }
 ],
 "metadata": {
  "kernelspec": {
   "display_name": "py310",
   "language": "python",
   "name": "python3"
  },
  "language_info": {
   "codemirror_mode": {
    "name": "ipython",
    "version": 3
   },
   "file_extension": ".py",
   "mimetype": "text/x-python",
   "name": "python",
   "nbconvert_exporter": "python",
   "pygments_lexer": "ipython3",
   "version": "3.10.13"
  }
 },
 "nbformat": 4,
 "nbformat_minor": 2
}
