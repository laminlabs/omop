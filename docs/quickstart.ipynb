{
 "cells": [
  {
   "cell_type": "markdown",
   "metadata": {},
   "source": [
    "# Quickstart"
   ]
  },
  {
   "cell_type": "markdown",
   "metadata": {},
   "source": [
    "We download some test data for the 32 tables from the address below and populate the Concept registry."
   ]
  },
  {
   "cell_type": "code",
   "execution_count": 1,
   "metadata": {
    "tags": [
     "hide-output"
    ]
   },
   "outputs": [
    {
     "name": "stdout",
     "output_type": "stream",
     "text": [
      "File ‘mimic-iv-demo-data-in-the-omop-common-data-model-0.9.zip’ already there; not retrieving.\n",
      "\n",
      "Archive:  mimic-iv-demo-data-in-the-omop-common-data-model-0.9.zip\n"
     ]
    }
   ],
   "source": [
    "!wget -nc https://physionet.org/static/published-projects/mimic-iv-demo-omop/mimic-iv-demo-data-in-the-omop-common-data-model-0.9.zip\n",
    "!unzip -n mimic-iv-demo-data-in-the-omop-common-data-model-0.9.zip"
   ]
  },
  {
   "cell_type": "markdown",
   "metadata": {},
   "source": [
    "Create a test instance:"
   ]
  },
  {
   "cell_type": "code",
   "execution_count": 2,
   "metadata": {},
   "outputs": [
    {
     "name": "stdout",
     "output_type": "stream",
     "text": [
      "\u001b[92m→\u001b[0m connected lamindb: zethson/test-omop\n"
     ]
    }
   ],
   "source": [
    "!lamin init --storage ./test-omop --name test-omop --schema omop"
   ]
  },
  {
   "cell_type": "markdown",
   "metadata": {},
   "source": [
    "Import `omop`:"
   ]
  },
  {
   "cell_type": "code",
   "execution_count": 3,
   "metadata": {},
   "outputs": [
    {
     "name": "stdout",
     "output_type": "stream",
     "text": [
      "\u001b[92m→\u001b[0m connected lamindb: zethson/test-omop\n"
     ]
    }
   ],
   "source": [
    "import lamindb as ln\n",
    "import omop as op\n",
    "import pandas as pd"
   ]
  },
  {
   "cell_type": "markdown",
   "metadata": {},
   "source": [
    "Load the data into a Pandas DataFrame:"
   ]
  },
  {
   "cell_type": "code",
   "execution_count": 4,
   "metadata": {
    "tags": [
     "hide-output"
    ]
   },
   "outputs": [
    {
     "data": {
      "text/html": [
       "<div>\n",
       "<style scoped>\n",
       "    .dataframe tbody tr th:only-of-type {\n",
       "        vertical-align: middle;\n",
       "    }\n",
       "\n",
       "    .dataframe tbody tr th {\n",
       "        vertical-align: top;\n",
       "    }\n",
       "\n",
       "    .dataframe thead th {\n",
       "        text-align: right;\n",
       "    }\n",
       "</style>\n",
       "<table border=\"1\" class=\"dataframe\">\n",
       "  <thead>\n",
       "    <tr style=\"text-align: right;\">\n",
       "      <th></th>\n",
       "      <th>concept_id</th>\n",
       "      <th>concept_name</th>\n",
       "      <th>domain_id</th>\n",
       "      <th>vocabulary_id</th>\n",
       "      <th>concept_class</th>\n",
       "      <th>standard_concept</th>\n",
       "      <th>concept_code</th>\n",
       "      <th>valid_start_date</th>\n",
       "      <th>valid_end_date</th>\n",
       "      <th>invalid_reason</th>\n",
       "    </tr>\n",
       "  </thead>\n",
       "  <tbody>\n",
       "    <tr>\n",
       "      <th>0</th>\n",
       "      <td>2000011360</td>\n",
       "      <td>Caffeine Citrate 1 Syringe</td>\n",
       "      <td>Drug</td>\n",
       "      <td>mimiciv_drug_ndc</td>\n",
       "      <td>Prescription Drug</td>\n",
       "      <td>NaN</td>\n",
       "      <td>Caffeine Citrate 1 Syringe</td>\n",
       "      <td>1970-01-01</td>\n",
       "      <td>2099-12-31</td>\n",
       "      <td>NaN</td>\n",
       "    </tr>\n",
       "    <tr>\n",
       "      <th>1</th>\n",
       "      <td>2000010536</td>\n",
       "      <td>Acetaminophen</td>\n",
       "      <td>Drug</td>\n",
       "      <td>mimiciv_drug_ndc</td>\n",
       "      <td>Prescription Drug</td>\n",
       "      <td>NaN</td>\n",
       "      <td>ACETAMINOPHEN (RECTAL)</td>\n",
       "      <td>1970-01-01</td>\n",
       "      <td>2099-12-31</td>\n",
       "      <td>NaN</td>\n",
       "    </tr>\n",
       "    <tr>\n",
       "      <th>2</th>\n",
       "      <td>2000011213</td>\n",
       "      <td>Melatonin 1 MG</td>\n",
       "      <td>Drug</td>\n",
       "      <td>mimiciv_drug_ndc</td>\n",
       "      <td>Prescription Drug</td>\n",
       "      <td>NaN</td>\n",
       "      <td>melatonin 1</td>\n",
       "      <td>1970-01-01</td>\n",
       "      <td>2099-12-31</td>\n",
       "      <td>NaN</td>\n",
       "    </tr>\n",
       "    <tr>\n",
       "      <th>3</th>\n",
       "      <td>2000011355</td>\n",
       "      <td>0.9% Sodium Chloride 100 mL Bag</td>\n",
       "      <td>Drug</td>\n",
       "      <td>mimiciv_drug_ndc</td>\n",
       "      <td>Prescription Drug</td>\n",
       "      <td>NaN</td>\n",
       "      <td>0.9% Sodium Chloride 100 mL Bag</td>\n",
       "      <td>1970-01-01</td>\n",
       "      <td>2099-12-31</td>\n",
       "      <td>NaN</td>\n",
       "    </tr>\n",
       "    <tr>\n",
       "      <th>4</th>\n",
       "      <td>2000010313</td>\n",
       "      <td>Vancomycin</td>\n",
       "      <td>Drug</td>\n",
       "      <td>mimiciv_drug_ndc</td>\n",
       "      <td>Prescription Drug</td>\n",
       "      <td>NaN</td>\n",
       "      <td>Vancomycin ophthalmic 50mg/ml bottle</td>\n",
       "      <td>1970-01-01</td>\n",
       "      <td>2099-12-31</td>\n",
       "      <td>NaN</td>\n",
       "    </tr>\n",
       "  </tbody>\n",
       "</table>\n",
       "</div>"
      ],
      "text/plain": [
       "   concept_id                     concept_name domain_id     vocabulary_id  \\\n",
       "0  2000011360       Caffeine Citrate 1 Syringe      Drug  mimiciv_drug_ndc   \n",
       "1  2000010536                    Acetaminophen      Drug  mimiciv_drug_ndc   \n",
       "2  2000011213                   Melatonin 1 MG      Drug  mimiciv_drug_ndc   \n",
       "3  2000011355  0.9% Sodium Chloride 100 mL Bag      Drug  mimiciv_drug_ndc   \n",
       "4  2000010313                       Vancomycin      Drug  mimiciv_drug_ndc   \n",
       "\n",
       "       concept_class standard_concept                          concept_code  \\\n",
       "0  Prescription Drug              NaN            Caffeine Citrate 1 Syringe   \n",
       "1  Prescription Drug              NaN               ACETAMINOPHEN (RECTAL)    \n",
       "2  Prescription Drug              NaN                           melatonin 1   \n",
       "3  Prescription Drug              NaN       0.9% Sodium Chloride 100 mL Bag   \n",
       "4  Prescription Drug              NaN  Vancomycin ophthalmic 50mg/ml bottle   \n",
       "\n",
       "  valid_start_date valid_end_date  invalid_reason  \n",
       "0       1970-01-01     2099-12-31             NaN  \n",
       "1       1970-01-01     2099-12-31             NaN  \n",
       "2       1970-01-01     2099-12-31             NaN  \n",
       "3       1970-01-01     2099-12-31             NaN  \n",
       "4       1970-01-01     2099-12-31             NaN  "
      ]
     },
     "execution_count": 4,
     "metadata": {},
     "output_type": "execute_result"
    }
   ],
   "source": [
    "df = pd.read_csv(\"./mimic-iv-demo-data-in-the-omop-common-data-model-0.9/1_omop_data_csv/2b_concept.csv\")\n",
    "df.columns = df.columns.str.lower()\n",
    "df.rename(columns={\"concept_class_id\": \"concept_class\"}, inplace=True)\n",
    "df.head()"
   ]
  },
  {
   "cell_type": "markdown",
   "metadata": {},
   "source": [
    "Populate the Concept registry:"
   ]
  },
  {
   "cell_type": "code",
   "execution_count": 5,
   "metadata": {
    "tags": [
     "hide-output"
    ]
   },
   "outputs": [
    {
     "data": {
      "text/html": [
       "<div>\n",
       "<style scoped>\n",
       "    .dataframe tbody tr th:only-of-type {\n",
       "        vertical-align: middle;\n",
       "    }\n",
       "\n",
       "    .dataframe tbody tr th {\n",
       "        vertical-align: top;\n",
       "    }\n",
       "\n",
       "    .dataframe thead th {\n",
       "        text-align: right;\n",
       "    }\n",
       "</style>\n",
       "<table border=\"1\" class=\"dataframe\">\n",
       "  <thead>\n",
       "    <tr style=\"text-align: right;\">\n",
       "      <th></th>\n",
       "      <th>concept_name</th>\n",
       "      <th>domain_id</th>\n",
       "      <th>vocabulary_id</th>\n",
       "      <th>concept_class</th>\n",
       "      <th>standard_concept</th>\n",
       "      <th>concept_code</th>\n",
       "      <th>valid_start_date</th>\n",
       "      <th>valid_end_date</th>\n",
       "      <th>invalid_reason</th>\n",
       "    </tr>\n",
       "    <tr>\n",
       "      <th>concept_id</th>\n",
       "      <th></th>\n",
       "      <th></th>\n",
       "      <th></th>\n",
       "      <th></th>\n",
       "      <th></th>\n",
       "      <th></th>\n",
       "      <th></th>\n",
       "      <th></th>\n",
       "      <th></th>\n",
       "    </tr>\n",
       "  </thead>\n",
       "  <tbody>\n",
       "    <tr>\n",
       "      <th>2000000000</th>\n",
       "      <td>Stroke Volume Variation</td>\n",
       "      <td>Measurement</td>\n",
       "      <td>mimiciv_mimic_generated</td>\n",
       "      <td>Clinical Observation</td>\n",
       "      <td>S</td>\n",
       "      <td>Stroke Volume Variation</td>\n",
       "      <td>1970-01-01</td>\n",
       "      <td>2099-12-31</td>\n",
       "      <td>nan</td>\n",
       "    </tr>\n",
       "    <tr>\n",
       "      <th>2000000002</th>\n",
       "      <td>dynes.sec.cm-5/m2</td>\n",
       "      <td>Unit</td>\n",
       "      <td>mimiciv_mimic_generated</td>\n",
       "      <td>Unit</td>\n",
       "      <td>S</td>\n",
       "      <td>dynes.sec.cm-5/m2</td>\n",
       "      <td>1970-01-01</td>\n",
       "      <td>2099-12-31</td>\n",
       "      <td>nan</td>\n",
       "    </tr>\n",
       "    <tr>\n",
       "      <th>2000000003</th>\n",
       "      <td>Output Event</td>\n",
       "      <td>Type Concept</td>\n",
       "      <td>mimiciv_mimic_generated</td>\n",
       "      <td>Meas Type</td>\n",
       "      <td>S</td>\n",
       "      <td>Output Event</td>\n",
       "      <td>1970-01-01</td>\n",
       "      <td>2099-12-31</td>\n",
       "      <td>nan</td>\n",
       "    </tr>\n",
       "    <tr>\n",
       "      <th>2000000004</th>\n",
       "      <td>Intravenous Bolus</td>\n",
       "      <td>Type Concept</td>\n",
       "      <td>mimiciv_mimic_generated</td>\n",
       "      <td>Drug Type</td>\n",
       "      <td>S</td>\n",
       "      <td>Intravenous Bolus</td>\n",
       "      <td>1970-01-01</td>\n",
       "      <td>2099-12-31</td>\n",
       "      <td>nan</td>\n",
       "    </tr>\n",
       "    <tr>\n",
       "      <th>2000000005</th>\n",
       "      <td>Intravenous Continous</td>\n",
       "      <td>Type Concept</td>\n",
       "      <td>mimiciv_mimic_generated</td>\n",
       "      <td>Drug Type</td>\n",
       "      <td>S</td>\n",
       "      <td>Intravenous Continous</td>\n",
       "      <td>1970-01-01</td>\n",
       "      <td>2099-12-31</td>\n",
       "      <td>nan</td>\n",
       "    </tr>\n",
       "    <tr>\n",
       "      <th>...</th>\n",
       "      <td>...</td>\n",
       "      <td>...</td>\n",
       "      <td>...</td>\n",
       "      <td>...</td>\n",
       "      <td>...</td>\n",
       "      <td>...</td>\n",
       "      <td>...</td>\n",
       "      <td>...</td>\n",
       "      <td>...</td>\n",
       "    </tr>\n",
       "    <tr>\n",
       "      <th>2000001084</th>\n",
       "      <td>Other|Ascites|Hematology</td>\n",
       "      <td>Measurement</td>\n",
       "      <td>mimiciv_meas_lab_loinc</td>\n",
       "      <td>Lab Test</td>\n",
       "      <td>nan</td>\n",
       "      <td>51123</td>\n",
       "      <td>1970-01-01</td>\n",
       "      <td>2099-12-31</td>\n",
       "      <td>nan</td>\n",
       "    </tr>\n",
       "    <tr>\n",
       "      <th>2000001085</th>\n",
       "      <td>RBC, Ascites|Ascites|Hematology</td>\n",
       "      <td>Measurement</td>\n",
       "      <td>mimiciv_meas_lab_loinc</td>\n",
       "      <td>Lab Test</td>\n",
       "      <td>nan</td>\n",
       "      <td>51127</td>\n",
       "      <td>1970-01-01</td>\n",
       "      <td>2099-12-31</td>\n",
       "      <td>nan</td>\n",
       "    </tr>\n",
       "    <tr>\n",
       "      <th>2000001086</th>\n",
       "      <td>Absolute Lymphocyte Count|Blood|Hematology</td>\n",
       "      <td>Measurement</td>\n",
       "      <td>mimiciv_meas_lab_loinc</td>\n",
       "      <td>Lab Test</td>\n",
       "      <td>nan</td>\n",
       "      <td>51133</td>\n",
       "      <td>1970-01-01</td>\n",
       "      <td>2099-12-31</td>\n",
       "      <td>nan</td>\n",
       "    </tr>\n",
       "    <tr>\n",
       "      <th>2000001087</th>\n",
       "      <td>ADP|Blood|Hematology</td>\n",
       "      <td>Measurement</td>\n",
       "      <td>mimiciv_meas_lab_loinc</td>\n",
       "      <td>Lab Test</td>\n",
       "      <td>nan</td>\n",
       "      <td>51135</td>\n",
       "      <td>1970-01-01</td>\n",
       "      <td>2099-12-31</td>\n",
       "      <td>nan</td>\n",
       "    </tr>\n",
       "    <tr>\n",
       "      <th>2000001088</th>\n",
       "      <td>Arachadonic Acid|Blood|Hematology</td>\n",
       "      <td>Measurement</td>\n",
       "      <td>mimiciv_meas_lab_loinc</td>\n",
       "      <td>Lab Test</td>\n",
       "      <td>nan</td>\n",
       "      <td>51142</td>\n",
       "      <td>1970-01-01</td>\n",
       "      <td>2099-12-31</td>\n",
       "      <td>nan</td>\n",
       "    </tr>\n",
       "  </tbody>\n",
       "</table>\n",
       "<p>100 rows × 9 columns</p>\n",
       "</div>"
      ],
      "text/plain": [
       "                                          concept_name     domain_id  \\\n",
       "concept_id                                                             \n",
       "2000000000                     Stroke Volume Variation   Measurement   \n",
       "2000000002                           dynes.sec.cm-5/m2          Unit   \n",
       "2000000003                                Output Event  Type Concept   \n",
       "2000000004                           Intravenous Bolus  Type Concept   \n",
       "2000000005                       Intravenous Continous  Type Concept   \n",
       "...                                                ...           ...   \n",
       "2000001084                    Other|Ascites|Hematology   Measurement   \n",
       "2000001085             RBC, Ascites|Ascites|Hematology   Measurement   \n",
       "2000001086  Absolute Lymphocyte Count|Blood|Hematology   Measurement   \n",
       "2000001087                        ADP|Blood|Hematology   Measurement   \n",
       "2000001088           Arachadonic Acid|Blood|Hematology   Measurement   \n",
       "\n",
       "                      vocabulary_id         concept_class standard_concept  \\\n",
       "concept_id                                                                   \n",
       "2000000000  mimiciv_mimic_generated  Clinical Observation                S   \n",
       "2000000002  mimiciv_mimic_generated                  Unit                S   \n",
       "2000000003  mimiciv_mimic_generated             Meas Type                S   \n",
       "2000000004  mimiciv_mimic_generated             Drug Type                S   \n",
       "2000000005  mimiciv_mimic_generated             Drug Type                S   \n",
       "...                             ...                   ...              ...   \n",
       "2000001084   mimiciv_meas_lab_loinc              Lab Test              nan   \n",
       "2000001085   mimiciv_meas_lab_loinc              Lab Test              nan   \n",
       "2000001086   mimiciv_meas_lab_loinc              Lab Test              nan   \n",
       "2000001087   mimiciv_meas_lab_loinc              Lab Test              nan   \n",
       "2000001088   mimiciv_meas_lab_loinc              Lab Test              nan   \n",
       "\n",
       "                       concept_code valid_start_date valid_end_date  \\\n",
       "concept_id                                                            \n",
       "2000000000  Stroke Volume Variation       1970-01-01     2099-12-31   \n",
       "2000000002        dynes.sec.cm-5/m2       1970-01-01     2099-12-31   \n",
       "2000000003             Output Event       1970-01-01     2099-12-31   \n",
       "2000000004        Intravenous Bolus       1970-01-01     2099-12-31   \n",
       "2000000005    Intravenous Continous       1970-01-01     2099-12-31   \n",
       "...                             ...              ...            ...   \n",
       "2000001084                    51123       1970-01-01     2099-12-31   \n",
       "2000001085                    51127       1970-01-01     2099-12-31   \n",
       "2000001086                    51133       1970-01-01     2099-12-31   \n",
       "2000001087                    51135       1970-01-01     2099-12-31   \n",
       "2000001088                    51142       1970-01-01     2099-12-31   \n",
       "\n",
       "           invalid_reason  \n",
       "concept_id                 \n",
       "2000000000            nan  \n",
       "2000000002            nan  \n",
       "2000000003            nan  \n",
       "2000000004            nan  \n",
       "2000000005            nan  \n",
       "...                   ...  \n",
       "2000001084            nan  \n",
       "2000001085            nan  \n",
       "2000001086            nan  \n",
       "2000001087            nan  \n",
       "2000001088            nan  \n",
       "\n",
       "[100 rows x 9 columns]"
      ]
     },
     "execution_count": 5,
     "metadata": {},
     "output_type": "execute_result"
    }
   ],
   "source": [
    "concepts = [op.Concept(**row.to_dict()) for _, row in df.iterrows()]\n",
    "for concept in concepts:\n",
    "    concept.save()\n",
    "op.Concept.df()"
   ]
  },
  {
   "cell_type": "markdown",
   "metadata": {},
   "source": [
    "Perform validation of new data."
   ]
  },
  {
   "cell_type": "code",
   "execution_count": 6,
   "metadata": {},
   "outputs": [
    {
     "name": "stdout",
     "output_type": "stream",
     "text": [
      "\u001b[93m!\u001b[0m \u001b[1;93m1 unique term\u001b[0m (50.00%) is not validated for \u001b[3mconcept_name\u001b[0m: \u001b[1;93mthis concept does not exist\u001b[0m\n"
     ]
    },
    {
     "data": {
      "text/plain": [
       "array([ True, False])"
      ]
     },
     "execution_count": 6,
     "metadata": {},
     "output_type": "execute_result"
    }
   ],
   "source": [
    "op.Concept.validate([\"Stroke Volume Variation\", \"this concept does not exist\"], field=op.Concept.concept_name)"
   ]
  }
 ],
 "metadata": {
  "kernelspec": {
   "display_name": "lamindb",
   "language": "python",
   "name": "python3"
  },
  "language_info": {
   "codemirror_mode": {
    "name": "ipython",
    "version": 3
   },
   "file_extension": ".py",
   "mimetype": "text/x-python",
   "name": "python",
   "nbconvert_exporter": "python",
   "pygments_lexer": "ipython3",
   "version": "3.11.7"
  }
 },
 "nbformat": 4,
 "nbformat_minor": 2
}
